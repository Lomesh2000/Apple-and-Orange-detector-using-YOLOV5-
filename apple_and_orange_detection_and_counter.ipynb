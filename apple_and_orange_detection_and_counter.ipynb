{
  "cells": [
    {
      "cell_type": "markdown",
      "metadata": {
        "id": "view-in-github",
        "colab_type": "text"
      },
      "source": [
        "<a href=\"https://colab.research.google.com/github/Lomesh2000/Apple-and-Orange-detector-using-YOLOV5-/blob/Lomesh2000/apple_and_orange_detection_and_counter.ipynb\" target=\"_parent\"><img src=\"https://colab.research.google.com/assets/colab-badge.svg\" alt=\"Open In Colab\"/></a>"
      ]
    },
    {
      "cell_type": "code",
      "execution_count": null,
      "metadata": {
        "id": "xOe_W7wWpmf9"
      },
      "outputs": [],
      "source": [
        "import os\n",
        "\n",
        "import cv2\n",
        "import numpy as np\n",
        "from tqdm import tqdm\n",
        "import argparse\n",
        "import fileinput\n",
        "\n",
        "os.chdir('/content/drive/MyDrive/projects/Artenal/yolov5')"
      ]
    },
    {
      "cell_type": "code",
      "execution_count": null,
      "metadata": {
        "id": "W6RYZWfYp0kJ"
      },
      "outputs": [],
      "source": [
        "from google.colab import drive\n",
        "drive.mount('/content/drive')"
      ]
    },
    {
      "cell_type": "code",
      "execution_count": null,
      "metadata": {
        "id": "xfR7mzy1p4Nm"
      },
      "outputs": [],
      "source": [
        "import os\n",
        "os.chdir('/content/drive/MyDrive/projects/Artenal')"
      ]
    },
    {
      "cell_type": "markdown",
      "source": [
        "## Cloning yolov5 github repository ."
      ],
      "metadata": {
        "id": "p7ci098IYX5R"
      }
    },
    {
      "cell_type": "code",
      "execution_count": null,
      "metadata": {
        "colab": {
          "base_uri": "https://localhost:8080/"
        },
        "id": "6fXd4issqDxl",
        "outputId": "cfebcfb9-00ca-4dc3-863f-1a09f48fdfb3"
      },
      "outputs": [
        {
          "name": "stdout",
          "output_type": "stream",
          "text": [
            "Cloning into 'yolov5'...\n",
            "remote: Enumerating objects: 12589, done.\u001b[K\n",
            "remote: Counting objects: 100% (14/14), done.\u001b[K\n",
            "remote: Compressing objects: 100% (11/11), done.\u001b[K\n",
            "remote: Total 12589 (delta 6), reused 8 (delta 3), pack-reused 12575\u001b[K\n",
            "Receiving objects: 100% (12589/12589), 12.32 MiB | 6.31 MiB/s, done.\n",
            "Resolving deltas: 100% (8662/8662), done.\n"
          ]
        }
      ],
      "source": [
        "! git clone https://github.com/ultralytics/yolov5.git"
      ]
    },
    {
      "cell_type": "code",
      "execution_count": null,
      "metadata": {
        "colab": {
          "base_uri": "https://localhost:8080/"
        },
        "id": "h25ah7ZkqN1Y",
        "outputId": "3e0fbe86-9e72-4cff-80c1-573cf88bdc56"
      },
      "outputs": [
        {
          "name": "stdout",
          "output_type": "stream",
          "text": [
            "Artenal.ipynb  yolov5\n"
          ]
        }
      ],
      "source": [
        "! dir"
      ]
    },
    {
      "cell_type": "code",
      "execution_count": null,
      "metadata": {
        "colab": {
          "base_uri": "https://localhost:8080/"
        },
        "id": "sz9kTfO5q-1o",
        "outputId": "4987aae6-e259-4156-fa79-af5c2b831bef"
      },
      "outputs": [
        {
          "name": "stdout",
          "output_type": "stream",
          "text": [
            "/content/drive/MyDrive/projects/Artenal/yolov5\n"
          ]
        }
      ],
      "source": [
        "% cd yolov5/"
      ]
    },
    {
      "cell_type": "code",
      "execution_count": null,
      "metadata": {
        "colab": {
          "base_uri": "https://localhost:8080/"
        },
        "id": "3CjHy3kWrCzr",
        "outputId": "ef589a34-32a8-4be2-9ef2-9a92c4c2ae13"
      },
      "outputs": [
        {
          "name": "stdout",
          "output_type": "stream",
          "text": [
            "CONTRIBUTING.md  export.py   models\t       setup.cfg       utils\n",
            "data\t\t hubconf.py  README.md\t       train.py        val.py\n",
            "detect.py\t LICENSE     requirements.txt  tutorial.ipynb\n"
          ]
        }
      ],
      "source": [
        "! dir"
      ]
    },
    {
      "cell_type": "markdown",
      "source": [
        "### installing required modules for yolo to work"
      ],
      "metadata": {
        "id": "ojDQaYrwYkhm"
      }
    },
    {
      "cell_type": "code",
      "execution_count": null,
      "metadata": {
        "id": "kLNSzIm3rHo3"
      },
      "outputs": [],
      "source": [
        "% pip install -r requirements.txt"
      ]
    },
    {
      "cell_type": "markdown",
      "source": [
        "## Getting data from kaggle using kaggle API"
      ],
      "metadata": {
        "id": "As51I7O7YuQ5"
      }
    },
    {
      "cell_type": "code",
      "execution_count": null,
      "metadata": {
        "id": "Y3gEx4Tjw86v"
      },
      "outputs": [],
      "source": [
        "!mkdir ~/.kaggle"
      ]
    },
    {
      "cell_type": "code",
      "execution_count": null,
      "metadata": {
        "id": "W4vdix8VxCG7"
      },
      "outputs": [],
      "source": [
        "! cp /content/kaggle.json ~/.kaggle/"
      ]
    },
    {
      "cell_type": "code",
      "execution_count": null,
      "metadata": {
        "id": "IPC4Ug6UxUPn"
      },
      "outputs": [],
      "source": [
        "! chmod 600 ~/.kaggle/kaggle.json"
      ]
    },
    {
      "cell_type": "code",
      "execution_count": null,
      "metadata": {
        "colab": {
          "base_uri": "https://localhost:8080/"
        },
        "id": "-YvVYaqvxlOz",
        "outputId": "134c22c8-e36a-4014-f1ce-d2ee26fcf218"
      },
      "outputs": [
        {
          "name": "stdout",
          "output_type": "stream",
          "text": [
            "Downloading apple2orange-dataset.zip to /content/drive/MyDrive/projects/Artenal\n",
            " 99% 74.0M/74.8M [00:00<00:00, 148MB/s]\n",
            "100% 74.8M/74.8M [00:00<00:00, 128MB/s]\n"
          ]
        }
      ],
      "source": [
        "! kaggle datasets download -d balraj98/apple2orange-dataset"
      ]
    },
    {
      "cell_type": "code",
      "execution_count": null,
      "metadata": {
        "id": "DG2pknX-xzts"
      },
      "outputs": [],
      "source": [
        "! mkdir data"
      ]
    },
    {
      "cell_type": "code",
      "execution_count": null,
      "metadata": {
        "id": "d5XCAWXJyH3r"
      },
      "outputs": [],
      "source": [
        "! unzip '/content/drive/MyDrive/projects/Artenal/apple2orange-dataset.zip' -d '/content/drive/MyDrive/projects/Artenal/data'"
      ]
    },
    {
      "cell_type": "code",
      "execution_count": null,
      "metadata": {
        "colab": {
          "base_uri": "https://localhost:8080/"
        },
        "id": "aeClDHgEyOje",
        "outputId": "ca9c81e4-ad30-4dc0-84d5-c7eeaa687a56"
      },
      "outputs": [
        {
          "name": "stdout",
          "output_type": "stream",
          "text": [
            "\n",
            "Usage:   \n",
            "  pip3 install [options] <requirement specifier> [package-index-options] ...\n",
            "  pip3 install [options] -r <requirements file> [package-index-options] ...\n",
            "  pip3 install [options] [-e] <vcs project url> ...\n",
            "  pip3 install [options] [-e] <local project path> ...\n",
            "  pip3 install [options] <archive url/path> ...\n",
            "\n",
            "-f option requires 1 argument\n"
          ]
        }
      ],
      "source": [
        "!pip install torch==1.6.0+cu101 torchvision==0.7.0+cu101 -f"
      ]
    },
    {
      "cell_type": "code",
      "execution_count": null,
      "metadata": {
        "id": "Sna_HTIZbRAf"
      },
      "outputs": [],
      "source": [
        "!pip install torch==1.6.0+cu101 torchvision==0.7.0+cu101 -f https://download.pytorch.org/whl/torch_stable.html"
      ]
    },
    {
      "cell_type": "code",
      "execution_count": null,
      "metadata": {
        "colab": {
          "base_uri": "https://localhost:8080/"
        },
        "id": "2y6R46LncBJi",
        "outputId": "6ac8075e-0766-47d3-8701-cb2ac2d0e6b6"
      },
      "outputs": [
        {
          "name": "stdout",
          "output_type": "stream",
          "text": [
            "Looking in indexes: https://pypi.org/simple, https://us-python.pkg.dev/colab-wheels/public/simple/\n",
            "Collecting utils\n",
            "  Downloading utils-1.0.1-py2.py3-none-any.whl (21 kB)\n",
            "Installing collected packages: utils\n",
            "Successfully installed utils-1.0.1\n",
            "Using torch 1.12.0+cu113 _CudaDeviceProperties(name='Tesla T4', major=7, minor=5, total_memory=15109MB, multi_processor_count=40)\n"
          ]
        }
      ],
      "source": [
        "! pip install utils\n",
        "import torch\n",
        "\n",
        "from IPython.display import Image  # for displaying images\n",
        "#from utils.downloads import gdrive_download  # for downloading models/datasets\n",
        "print('Using torch %s %s' % (torch.__version__, torch.cuda.get_device_properties(0) if torch.cuda.is_available() else 'CPU'))"
      ]
    },
    {
      "cell_type": "code",
      "execution_count": null,
      "metadata": {
        "colab": {
          "base_uri": "https://localhost:8080/"
        },
        "id": "H6ivp9FecNJS",
        "outputId": "54c7ec25-0675-4c0e-b4cf-be9ba82969b7"
      },
      "outputs": [
        {
          "name": "stdout",
          "output_type": "stream",
          "text": [
            "/bin/bash: ./: Is a directory\n"
          ]
        }
      ],
      "source": [
        "\n"
      ]
    },
    {
      "cell_type": "code",
      "execution_count": null,
      "metadata": {
        "colab": {
          "base_uri": "https://localhost:8080/"
        },
        "id": "1LujayKr7gWO",
        "outputId": "094c6c07-27a8-4531-89cb-1c7773e9a844"
      },
      "outputs": [
        {
          "data": {
            "text/plain": [
              "['5f19841b492291a4.txt',\n",
              " '99df5d6584825c98.txt',\n",
              " '89670599b2f5f294.txt',\n",
              " 'b22ef4542a98b712.txt',\n",
              " '07fb5124cb5d0296.txt']"
            ]
          },
          "execution_count": 4,
          "metadata": {},
          "output_type": "execute_result"
        }
      ],
      "source": [
        "label_path='/content/drive/MyDrive/projects/Artenal/data/OID/csv_folder/Dataset/train/Apple_Orange/Label'\n",
        "\n",
        "os.listdir(label_path)[:5]"
      ]
    },
    {
      "cell_type": "code",
      "execution_count": null,
      "metadata": {
        "id": "uZ47Dv5S-RvQ"
      },
      "outputs": [],
      "source": [
        "def annotation_acc_to_yolo(file):\n",
        "  file_path=os.path.join(label_path,file)\n",
        "\n",
        "  with open(file_path,'r+') as f:\n",
        "    para = f.read()\n",
        "\n",
        "    before=para.split()[0]\n",
        "\n",
        "    para=para.replace(before,['0' if before=='This' else '1'][0])\n",
        "\n",
        "\n",
        "\n",
        "  with open(file_path,'w') as f:\n",
        "    f.write(para)    "
      ]
    },
    {
      "cell_type": "code",
      "execution_count": null,
      "metadata": {
        "id": "XaZhruBRBdNp"
      },
      "outputs": [],
      "source": [
        "for file in os.listdir(label_path):\n",
        "\n",
        "  annotation_acc_to_yolo(file)"
      ]
    },
    {
      "cell_type": "code",
      "execution_count": null,
      "metadata": {
        "colab": {
          "base_uri": "https://localhost:8080/"
        },
        "id": "swkyDxrECAgA",
        "outputId": "0d789c0a-afa9-4b27-edb5-c8bdf582697d"
      },
      "outputs": [
        {
          "data": {
            "text/plain": [
              "1936"
            ]
          },
          "execution_count": 10,
          "metadata": {},
          "output_type": "execute_result"
        }
      ],
      "source": [
        "len(os.listdir(label_path))"
      ]
    },
    {
      "cell_type": "markdown",
      "source": [
        "## function that turns XMin, YMin, XMax, YMax coordinates to normalized yolo format"
      ],
      "metadata": {
        "id": "UpFukx-nFnFw"
      }
    },
    {
      "cell_type": "code",
      "execution_count": null,
      "metadata": {
        "id": "uLwR5-qCCnlI"
      },
      "outputs": [],
      "source": [
        "\n",
        "\n",
        "def convert(filename_str, coords):\n",
        "    os.chdir(\"..\")\n",
        "    image = cv2.imread(filename_str + \".jpg\")\n",
        "    coords[2] -= coords[0]\n",
        "    coords[3] -= coords[1]\n",
        "    x_diff = int(coords[2]/2)\n",
        "    y_diff = int(coords[3]/2)\n",
        "    coords[0] = coords[0]+x_diff\n",
        "    coords[1] = coords[1]+y_diff\n",
        "    coords[0] /= int(image.shape[1])\n",
        "    coords[1] /= int(image.shape[0])\n",
        "    coords[2] /= int(image.shape[1])\n",
        "    coords[3] /= int(image.shape[0])\n",
        "    os.chdir(\"Label\")\n",
        "    return coords\n",
        "\n",
        "ROOT_DIR = os.getcwd()\n",
        "\n",
        "# create dict to map class names to numbers for yolo\n",
        "classes = {}\n",
        "with open(\"classes.txt\", \"r\") as myFile:\n",
        "    for num, line in enumerate(myFile, 0):\n",
        "        line = line.rstrip(\"\\n\")\n",
        "        classes[line] = num\n",
        "    myFile.close()\n",
        "# step into dataset directory\n",
        "os.chdir(os.path.join(\"OID\", \"Dataset\"))\n",
        "DIRS = os.listdir(os.getcwd())\n",
        "\n",
        "# for all train, validation and test folders\n",
        "for DIR in DIRS:\n",
        "    if os.path.isdir(DIR):\n",
        "        os.chdir(DIR)\n",
        "        print(\"Currently in subdirectory:\", DIR)\n",
        "        \n",
        "        CLASS_DIRS = os.listdir(os.getcwd())\n",
        "        # for all class folders step into directory to change annotations\n",
        "        for CLASS_DIR in CLASS_DIRS:\n",
        "            if os.path.isdir(CLASS_DIR):\n",
        "                os.chdir(CLASS_DIR)\n",
        "                print(\"Converting annotations for class: \", CLASS_DIR)\n",
        "                \n",
        "                # Step into Label folder where annotations are generated\n",
        "                os.chdir(\"Label\")\n",
        "\n",
        "                for filename in tqdm(os.listdir(os.getcwd())):\n",
        "                    filename_str = str.split(filename, \".\")[0]\n",
        "                    if filename.endswith(\".txt\"):\n",
        "                        annotations = []\n",
        "                        with open(filename) as f:\n",
        "                            for line in f:\n",
        "                                for class_type in classes:\n",
        "                                    line = line.replace(class_type, str(classes.get(class_type)))\n",
        "                                labels = line.split()\n",
        "                                print(labels)\n",
        "                                coords = np.asarray([float(labels[1]), float(labels[2]), float(labels[3]), float(labels[4])])\n",
        "                                coords = convert(filename_str, coords)\n",
        "                                labels[1], labels[2], labels[3], labels[4] = coords[0], coords[1], coords[2], coords[3]\n",
        "                                newline = str(labels[0]) + \" \" + str(labels[1]) + \" \" + str(labels[2]) + \" \" + str(labels[3]) + \" \" + str(labels[4])\n",
        "                                line = line.replace(line, newline)\n",
        "                                annotations.append(line)\n",
        "                            f.close()\n",
        "                        os.chdir(\"..\")\n",
        "                        with open(filename, \"w\") as outfile:\n",
        "                            for line in annotations:\n",
        "                                outfile.write(line)\n",
        "                                outfile.write(\"\\n\")\n",
        "                            outfile.close()\n",
        "                        os.chdir(\"Label\")\n",
        "                os.chdir(\"..\")\n",
        "                os.chdir(\"..\")\n",
        "        os.chdir(\"..\")"
      ]
    },
    {
      "cell_type": "code",
      "execution_count": null,
      "metadata": {
        "id": "PKrTSpwOU1rO"
      },
      "outputs": [],
      "source": [
        "! mv '/content/drive/MyDrive/projects/Artenal/data/OID' '/content/drive/MyDrive/projects/Artenal/yolov5'"
      ]
    },
    {
      "cell_type": "code",
      "execution_count": null,
      "metadata": {
        "colab": {
          "base_uri": "https://localhost:8080/"
        },
        "id": "FFqJsmEtm-O5",
        "outputId": "cc4a02d8-2346-4d5c-ce9a-6d279fc9ec82"
      },
      "outputs": [
        {
          "output_type": "stream",
          "name": "stdout",
          "text": [
            "/content/drive/MyDrive/projects/Artenal/yolov5\n"
          ]
        }
      ],
      "source": [
        "%cd '/content/drive/MyDrive/projects/Artenal/yolov5'"
      ]
    },
    {
      "cell_type": "code",
      "execution_count": null,
      "metadata": {
        "id": "pl45c2FoxsEP"
      },
      "outputs": [],
      "source": [
        ""
      ]
    },
    {
      "cell_type": "markdown",
      "source": [
        "##  Training yolo model on our dataset"
      ],
      "metadata": {
        "id": "rzJq0_hQHdPl"
      }
    },
    {
      "cell_type": "code",
      "execution_count": null,
      "metadata": {
        "colab": {
          "base_uri": "https://localhost:8080/"
        },
        "id": "wAOhP8CyU4wk",
        "outputId": "9c111104-4f58-4a0e-d5ee-5b240ccd3365"
      },
      "outputs": [
        {
          "output_type": "stream",
          "name": "stdout",
          "text": [
            "\u001b[34m\u001b[1mtrain: \u001b[0mweights=yolov5s.pt, cfg=./models/yolov5s.yaml, data=my_classes.yaml, hyp=data/hyps/hyp.scratch-low.yaml, epochs=80, batch_size=16, imgsz=416, rect=False, resume=False, nosave=False, noval=False, noautoanchor=False, noplots=False, evolve=None, bucket=, cache=ram, image_weights=False, device=0, multi_scale=False, single_cls=False, optimizer=SGD, sync_bn=False, workers=8, project=runs/train, name=yolov5s_results, exist_ok=False, quad=False, cos_lr=False, label_smoothing=0.0, patience=100, freeze=[0], save_period=-1, seed=0, local_rank=-1, entity=None, upload_dataset=False, bbox_interval=-1, artifact_alias=latest\n",
            "\u001b[34m\u001b[1mgithub: \u001b[0m⚠️ YOLOv5 is out of date by 7 commits. Use `git pull` or `git clone https://github.com/ultralytics/yolov5` to update.\n",
            "YOLOv5 🚀 v6.1-297-g72a81e7 Python-3.7.13 torch-1.11.0+cu102 CUDA:0 (Tesla T4, 15110MiB)\n",
            "\n",
            "\u001b[34m\u001b[1mhyperparameters: \u001b[0mlr0=0.01, lrf=0.01, momentum=0.937, weight_decay=0.0005, warmup_epochs=3.0, warmup_momentum=0.8, warmup_bias_lr=0.1, box=0.05, cls=0.5, cls_pw=1.0, obj=1.0, obj_pw=1.0, iou_t=0.2, anchor_t=4.0, fl_gamma=0.0, hsv_h=0.015, hsv_s=0.7, hsv_v=0.4, degrees=0.0, translate=0.1, scale=0.5, shear=0.0, perspective=0.0, flipud=0.0, fliplr=0.5, mosaic=1.0, mixup=0.0, copy_paste=0.0\n",
            "\u001b[34m\u001b[1mWeights & Biases: \u001b[0mrun 'pip install wandb' to automatically track and visualize YOLOv5 🚀 runs (RECOMMENDED)\n",
            "\u001b[34m\u001b[1mTensorBoard: \u001b[0mStart with 'tensorboard --logdir runs/train', view at http://localhost:6006/\n",
            "Downloading https://ultralytics.com/assets/Arial.ttf to /root/.config/Ultralytics/Arial.ttf...\n",
            "100% 755k/755k [00:00<00:00, 106MB/s]\n",
            "Downloading https://github.com/ultralytics/yolov5/releases/download/v6.1/yolov5s.pt to yolov5s.pt...\n",
            "100% 14.1M/14.1M [00:00<00:00, 161MB/s]\n",
            "\n",
            "Overriding model.yaml nc=80 with nc=2\n",
            "\n",
            "                 from  n    params  module                                  arguments                     \n",
            "  0                -1  1      3520  models.common.Conv                      [3, 32, 6, 2, 2]              \n",
            "  1                -1  1     18560  models.common.Conv                      [32, 64, 3, 2]                \n",
            "  2                -1  1     18816  models.common.C3                        [64, 64, 1]                   \n",
            "  3                -1  1     73984  models.common.Conv                      [64, 128, 3, 2]               \n",
            "  4                -1  2    115712  models.common.C3                        [128, 128, 2]                 \n",
            "  5                -1  1    295424  models.common.Conv                      [128, 256, 3, 2]              \n",
            "  6                -1  3    625152  models.common.C3                        [256, 256, 3]                 \n",
            "  7                -1  1   1180672  models.common.Conv                      [256, 512, 3, 2]              \n",
            "  8                -1  1   1182720  models.common.C3                        [512, 512, 1]                 \n",
            "  9                -1  1    656896  models.common.SPPF                      [512, 512, 5]                 \n",
            " 10                -1  1    131584  models.common.Conv                      [512, 256, 1, 1]              \n",
            " 11                -1  1         0  torch.nn.modules.upsampling.Upsample    [None, 2, 'nearest']          \n",
            " 12           [-1, 6]  1         0  models.common.Concat                    [1]                           \n",
            " 13                -1  1    361984  models.common.C3                        [512, 256, 1, False]          \n",
            " 14                -1  1     33024  models.common.Conv                      [256, 128, 1, 1]              \n",
            " 15                -1  1         0  torch.nn.modules.upsampling.Upsample    [None, 2, 'nearest']          \n",
            " 16           [-1, 4]  1         0  models.common.Concat                    [1]                           \n",
            " 17                -1  1     90880  models.common.C3                        [256, 128, 1, False]          \n",
            " 18                -1  1    147712  models.common.Conv                      [128, 128, 3, 2]              \n",
            " 19          [-1, 14]  1         0  models.common.Concat                    [1]                           \n",
            " 20                -1  1    296448  models.common.C3                        [256, 256, 1, False]          \n",
            " 21                -1  1    590336  models.common.Conv                      [256, 256, 3, 2]              \n",
            " 22          [-1, 10]  1         0  models.common.Concat                    [1]                           \n",
            " 23                -1  1   1182720  models.common.C3                        [512, 512, 1, False]          \n",
            " 24      [17, 20, 23]  1     18879  models.yolo.Detect                      [2, [[10, 13, 16, 30, 33, 23], [30, 61, 62, 45, 59, 119], [116, 90, 156, 198, 373, 326]], [128, 256, 512]]\n",
            "YOLOv5s summary: 270 layers, 7025023 parameters, 7025023 gradients\n",
            "\n",
            "Transferred 342/349 items from yolov5s.pt\n",
            "\u001b[34m\u001b[1mAMP: \u001b[0mchecks passed ✅\n",
            "Scaled weight_decay = 0.0005\n",
            "\u001b[34m\u001b[1moptimizer:\u001b[0m SGD with parameter groups 57 weight (no decay), 60 weight, 60 bias\n",
            "\u001b[34m\u001b[1malbumentations: \u001b[0mversion 1.0.3 required by YOLOv5, but version 0.1.12 is currently installed\n",
            "\u001b[34m\u001b[1mtrain: \u001b[0mScanning '/content/drive/MyDrive/projects/Artenal/yolov5/OID/Dataset/train/Apple_Orange.cache' images and labels... 1936 found, 0 missing, 0 empty, 0 corrupt: 100% 1936/1936 [00:00<?, ?it/s]\n",
            "\u001b[34m\u001b[1mtrain: \u001b[0mCaching images (0.7GB ram): 100% 1936/1936 [01:23<00:00, 23.15it/s]\n",
            "\u001b[34m\u001b[1mval: \u001b[0mScanning '/content/drive/MyDrive/projects/Artenal/yolov5/OID/Dataset/test/Apple_Orange.cache' images and labels... 350 found, 0 missing, 0 empty, 0 corrupt: 100% 350/350 [00:00<?, ?it/s]\n",
            "\u001b[34m\u001b[1mval: \u001b[0mCaching images (0.1GB ram): 100% 350/350 [00:14<00:00, 24.91it/s]\n",
            "Plotting labels to runs/train/yolov5s_results10/labels.jpg... \n",
            "\n",
            "\u001b[34m\u001b[1mAutoAnchor: \u001b[0m5.01 anchors/target, 0.997 Best Possible Recall (BPR). Current anchors are a good fit to dataset ✅\n",
            "Image sizes 416 train, 416 val\n",
            "Using 2 dataloader workers\n",
            "Logging results to \u001b[1mruns/train/yolov5s_results10\u001b[0m\n",
            "Starting training for 80 epochs...\n",
            "\n",
            "     Epoch   gpu_mem       box       obj       cls    labels  img_size\n",
            "      0/79     1.54G   0.09541   0.05025    0.0259       112       416: 100% 121/121 [00:19<00:00,  6.20it/s]\n",
            "               Class     Images     Labels          P          R     mAP@.5 mAP@.5:.95: 100% 11/11 [00:02<00:00,  3.88it/s]\n",
            "                 all        350       1173      0.179      0.237      0.112     0.0401\n",
            "\n",
            "     Epoch   gpu_mem       box       obj       cls    labels  img_size\n",
            "      1/79     2.24G   0.07027    0.0501   0.01372       138       416: 100% 121/121 [00:17<00:00,  6.93it/s]\n",
            "               Class     Images     Labels          P          R     mAP@.5 mAP@.5:.95: 100% 11/11 [00:02<00:00,  3.77it/s]\n",
            "                 all        350       1173      0.279      0.399      0.276      0.155\n",
            "\n",
            "     Epoch   gpu_mem       box       obj       cls    labels  img_size\n",
            "      2/79     2.24G   0.06362   0.04813  0.009577       231       416: 100% 121/121 [00:16<00:00,  7.31it/s]\n",
            "               Class     Images     Labels          P          R     mAP@.5 mAP@.5:.95: 100% 11/11 [00:02<00:00,  4.62it/s]\n",
            "                 all        350       1173      0.294      0.513      0.286      0.154\n",
            "\n",
            "     Epoch   gpu_mem       box       obj       cls    labels  img_size\n",
            "      3/79     2.24G   0.05585   0.04951  0.008237       127       416: 100% 121/121 [00:16<00:00,  7.31it/s]\n",
            "               Class     Images     Labels          P          R     mAP@.5 mAP@.5:.95: 100% 11/11 [00:02<00:00,  5.07it/s]\n",
            "                 all        350       1173      0.402      0.427      0.353      0.215\n",
            "\n",
            "     Epoch   gpu_mem       box       obj       cls    labels  img_size\n",
            "      4/79     2.24G    0.0511    0.0497  0.007997       119       416: 100% 121/121 [00:16<00:00,  7.22it/s]\n",
            "               Class     Images     Labels          P          R     mAP@.5 mAP@.5:.95: 100% 11/11 [00:02<00:00,  4.97it/s]\n",
            "                 all        350       1173       0.46      0.457      0.403      0.271\n",
            "\n",
            "     Epoch   gpu_mem       box       obj       cls    labels  img_size\n",
            "      5/79     2.24G   0.04919   0.05093  0.006982       173       416: 100% 121/121 [00:18<00:00,  6.66it/s]\n",
            "               Class     Images     Labels          P          R     mAP@.5 mAP@.5:.95: 100% 11/11 [00:02<00:00,  5.04it/s]\n",
            "                 all        350       1173      0.444      0.479       0.41      0.274\n",
            "\n",
            "     Epoch   gpu_mem       box       obj       cls    labels  img_size\n",
            "      6/79     2.24G   0.04805   0.05181  0.005803       119       416: 100% 121/121 [00:16<00:00,  7.17it/s]\n",
            "               Class     Images     Labels          P          R     mAP@.5 mAP@.5:.95: 100% 11/11 [00:02<00:00,  5.09it/s]\n",
            "                 all        350       1173      0.448      0.474      0.379      0.242\n",
            "\n",
            "     Epoch   gpu_mem       box       obj       cls    labels  img_size\n",
            "      7/79     2.24G    0.0464   0.05072  0.006771       158       416: 100% 121/121 [00:16<00:00,  7.30it/s]\n",
            "               Class     Images     Labels          P          R     mAP@.5 mAP@.5:.95: 100% 11/11 [00:02<00:00,  5.07it/s]\n",
            "                 all        350       1173      0.426      0.456      0.378      0.248\n",
            "\n",
            "     Epoch   gpu_mem       box       obj       cls    labels  img_size\n",
            "      8/79     2.24G   0.04592   0.04984  0.005765       118       416: 100% 121/121 [00:18<00:00,  6.68it/s]\n",
            "               Class     Images     Labels          P          R     mAP@.5 mAP@.5:.95: 100% 11/11 [00:02<00:00,  5.08it/s]\n",
            "                 all        350       1173       0.44      0.495      0.414      0.274\n",
            "\n",
            "     Epoch   gpu_mem       box       obj       cls    labels  img_size\n",
            "      9/79     2.24G   0.04544   0.04861  0.004709       181       416: 100% 121/121 [00:19<00:00,  6.21it/s]\n",
            "               Class     Images     Labels          P          R     mAP@.5 mAP@.5:.95: 100% 11/11 [00:02<00:00,  5.24it/s]\n",
            "                 all        350       1173       0.45      0.465      0.402      0.266\n",
            "\n",
            "     Epoch   gpu_mem       box       obj       cls    labels  img_size\n",
            "     10/79     2.24G   0.04478    0.0487  0.004426       167       416: 100% 121/121 [00:16<00:00,  7.29it/s]\n",
            "               Class     Images     Labels          P          R     mAP@.5 mAP@.5:.95: 100% 11/11 [00:02<00:00,  5.11it/s]\n",
            "                 all        350       1173      0.432      0.455      0.372      0.264\n",
            "\n",
            "     Epoch   gpu_mem       box       obj       cls    labels  img_size\n",
            "     11/79     2.24G   0.04487   0.04822  0.004774       158       416: 100% 121/121 [00:16<00:00,  7.21it/s]\n",
            "               Class     Images     Labels          P          R     mAP@.5 mAP@.5:.95: 100% 11/11 [00:02<00:00,  3.69it/s]\n",
            "                 all        350       1173      0.346      0.489      0.339      0.239\n",
            "\n",
            "     Epoch   gpu_mem       box       obj       cls    labels  img_size\n",
            "     12/79     2.24G   0.04334   0.04722  0.004635       154       416: 100% 121/121 [00:16<00:00,  7.27it/s]\n",
            "               Class     Images     Labels          P          R     mAP@.5 mAP@.5:.95: 100% 11/11 [00:02<00:00,  5.20it/s]\n",
            "                 all        350       1173      0.466      0.466      0.428      0.301\n",
            "\n",
            "     Epoch   gpu_mem       box       obj       cls    labels  img_size\n",
            "     13/79     2.24G   0.04252   0.04595  0.003527       177       416: 100% 121/121 [00:16<00:00,  7.23it/s]\n",
            "               Class     Images     Labels          P          R     mAP@.5 mAP@.5:.95: 100% 11/11 [00:02<00:00,  5.14it/s]\n",
            "                 all        350       1173      0.423      0.487      0.371      0.267\n",
            "\n",
            "     Epoch   gpu_mem       box       obj       cls    labels  img_size\n",
            "     14/79     2.24G   0.04291   0.04668  0.003804       100       416: 100% 121/121 [00:16<00:00,  7.23it/s]\n",
            "               Class     Images     Labels          P          R     mAP@.5 mAP@.5:.95: 100% 11/11 [00:02<00:00,  5.11it/s]\n",
            "                 all        350       1173      0.434      0.545      0.437       0.31\n",
            "\n",
            "     Epoch   gpu_mem       box       obj       cls    labels  img_size\n",
            "     15/79     2.24G    0.0419   0.04597  0.003747        98       416: 100% 121/121 [00:18<00:00,  6.53it/s]\n",
            "               Class     Images     Labels          P          R     mAP@.5 mAP@.5:.95: 100% 11/11 [00:02<00:00,  5.22it/s]\n",
            "                 all        350       1173       0.46       0.49       0.41      0.298\n",
            "\n",
            "     Epoch   gpu_mem       box       obj       cls    labels  img_size\n",
            "     16/79     2.24G   0.04186   0.04612  0.003486       123       416: 100% 121/121 [00:16<00:00,  7.29it/s]\n",
            "               Class     Images     Labels          P          R     mAP@.5 mAP@.5:.95: 100% 11/11 [00:02<00:00,  5.14it/s]\n",
            "                 all        350       1173      0.497      0.514      0.432      0.304\n",
            "\n",
            "     Epoch   gpu_mem       box       obj       cls    labels  img_size\n",
            "     17/79     2.24G   0.04202   0.04507  0.003168       177       416: 100% 121/121 [00:16<00:00,  7.26it/s]\n",
            "               Class     Images     Labels          P          R     mAP@.5 mAP@.5:.95: 100% 11/11 [00:02<00:00,  5.13it/s]\n",
            "                 all        350       1173      0.468        0.5      0.424      0.298\n",
            "\n",
            "     Epoch   gpu_mem       box       obj       cls    labels  img_size\n",
            "     18/79     2.24G   0.04113   0.04391  0.003327       116       416: 100% 121/121 [00:18<00:00,  6.69it/s]\n",
            "               Class     Images     Labels          P          R     mAP@.5 mAP@.5:.95: 100% 11/11 [00:02<00:00,  5.12it/s]\n",
            "                 all        350       1173      0.411       0.54      0.416      0.299\n",
            "\n",
            "     Epoch   gpu_mem       box       obj       cls    labels  img_size\n",
            "     19/79     2.24G   0.04115   0.04373  0.002844        85       416: 100% 121/121 [00:16<00:00,  7.32it/s]\n",
            "               Class     Images     Labels          P          R     mAP@.5 mAP@.5:.95: 100% 11/11 [00:02<00:00,  5.10it/s]\n",
            "                 all        350       1173      0.437      0.507      0.419      0.303\n",
            "\n",
            "     Epoch   gpu_mem       box       obj       cls    labels  img_size\n",
            "     20/79     2.24G   0.04072   0.04358  0.002893        90       416: 100% 121/121 [00:16<00:00,  7.29it/s]\n",
            "               Class     Images     Labels          P          R     mAP@.5 mAP@.5:.95: 100% 11/11 [00:02<00:00,  5.23it/s]\n",
            "                 all        350       1173      0.457      0.549      0.464      0.332\n",
            "\n",
            "     Epoch   gpu_mem       box       obj       cls    labels  img_size\n",
            "     21/79     2.24G   0.04099   0.04337  0.002481       138       416: 100% 121/121 [00:16<00:00,  7.21it/s]\n",
            "               Class     Images     Labels          P          R     mAP@.5 mAP@.5:.95: 100% 11/11 [00:02<00:00,  5.14it/s]\n",
            "                 all        350       1173      0.503      0.513      0.477      0.347\n",
            "\n",
            "     Epoch   gpu_mem       box       obj       cls    labels  img_size\n",
            "     22/79     2.24G   0.03981   0.04281  0.002607       158       416: 100% 121/121 [00:18<00:00,  6.64it/s]\n",
            "               Class     Images     Labels          P          R     mAP@.5 mAP@.5:.95: 100% 11/11 [00:02<00:00,  5.27it/s]\n",
            "                 all        350       1173       0.45      0.503      0.427      0.304\n",
            "\n",
            "     Epoch   gpu_mem       box       obj       cls    labels  img_size\n",
            "     23/79     2.24G   0.03956   0.04352  0.002889       199       416: 100% 121/121 [00:16<00:00,  7.26it/s]\n",
            "               Class     Images     Labels          P          R     mAP@.5 mAP@.5:.95: 100% 11/11 [00:02<00:00,  5.23it/s]\n",
            "                 all        350       1173      0.429      0.531      0.418      0.309\n",
            "\n",
            "     Epoch   gpu_mem       box       obj       cls    labels  img_size\n",
            "     24/79     2.24G   0.03974   0.04455  0.002647       108       416: 100% 121/121 [00:16<00:00,  7.24it/s]\n",
            "               Class     Images     Labels          P          R     mAP@.5 mAP@.5:.95: 100% 11/11 [00:02<00:00,  5.25it/s]\n",
            "                 all        350       1173      0.457      0.543       0.41      0.304\n",
            "\n",
            "     Epoch   gpu_mem       box       obj       cls    labels  img_size\n",
            "     25/79     2.24G   0.03907   0.04352  0.002418       162       416: 100% 121/121 [00:17<00:00,  6.72it/s]\n",
            "               Class     Images     Labels          P          R     mAP@.5 mAP@.5:.95: 100% 11/11 [00:02<00:00,  5.18it/s]\n",
            "                 all        350       1173      0.424       0.54      0.429      0.311\n",
            "\n",
            "     Epoch   gpu_mem       box       obj       cls    labels  img_size\n",
            "     26/79     2.24G   0.03932   0.04239  0.002277       200       416: 100% 121/121 [00:16<00:00,  7.25it/s]\n",
            "               Class     Images     Labels          P          R     mAP@.5 mAP@.5:.95: 100% 11/11 [00:02<00:00,  5.28it/s]\n",
            "                 all        350       1173      0.447      0.503       0.43      0.321\n",
            "\n",
            "     Epoch   gpu_mem       box       obj       cls    labels  img_size\n",
            "     27/79     2.24G   0.03861   0.04058  0.002727       289       416: 100% 121/121 [00:16<00:00,  7.25it/s]\n",
            "               Class     Images     Labels          P          R     mAP@.5 mAP@.5:.95: 100% 11/11 [00:02<00:00,  5.21it/s]\n",
            "                 all        350       1173      0.569      0.499      0.473      0.348\n",
            "\n",
            "     Epoch   gpu_mem       box       obj       cls    labels  img_size\n",
            "     28/79     2.24G   0.03848   0.04024  0.002486       127       416: 100% 121/121 [00:16<00:00,  7.28it/s]\n",
            "               Class     Images     Labels          P          R     mAP@.5 mAP@.5:.95: 100% 11/11 [00:02<00:00,  4.87it/s]\n",
            "                 all        350       1173      0.524      0.507      0.461      0.335\n",
            "\n",
            "     Epoch   gpu_mem       box       obj       cls    labels  img_size\n",
            "     29/79     2.24G   0.03857   0.04244  0.002424       126       416: 100% 121/121 [00:17<00:00,  6.86it/s]\n",
            "               Class     Images     Labels          P          R     mAP@.5 mAP@.5:.95: 100% 11/11 [00:02<00:00,  5.29it/s]\n",
            "                 all        350       1173       0.49      0.452      0.418      0.302\n",
            "\n",
            "     Epoch   gpu_mem       box       obj       cls    labels  img_size\n",
            "     30/79     2.24G   0.03861   0.04217  0.002408        84       416: 100% 121/121 [00:16<00:00,  7.27it/s]\n",
            "               Class     Images     Labels          P          R     mAP@.5 mAP@.5:.95: 100% 11/11 [00:02<00:00,  5.25it/s]\n",
            "                 all        350       1173      0.443      0.493      0.391      0.284\n",
            "\n",
            "     Epoch   gpu_mem       box       obj       cls    labels  img_size\n",
            "     31/79     2.24G   0.03815   0.04164     0.002       164       416: 100% 121/121 [00:16<00:00,  7.34it/s]\n",
            "               Class     Images     Labels          P          R     mAP@.5 mAP@.5:.95: 100% 11/11 [00:02<00:00,  5.27it/s]\n",
            "                 all        350       1173      0.468      0.508      0.426      0.312\n",
            "\n",
            "     Epoch   gpu_mem       box       obj       cls    labels  img_size\n",
            "     32/79     2.24G   0.03739   0.03927  0.001963       180       416: 100% 121/121 [00:18<00:00,  6.66it/s]\n",
            "               Class     Images     Labels          P          R     mAP@.5 mAP@.5:.95: 100% 11/11 [00:02<00:00,  5.25it/s]\n",
            "                 all        350       1173      0.495      0.501       0.45      0.329\n",
            "\n",
            "     Epoch   gpu_mem       box       obj       cls    labels  img_size\n",
            "     33/79     2.24G   0.03719   0.03871  0.001928       176       416: 100% 121/121 [00:16<00:00,  7.27it/s]\n",
            "               Class     Images     Labels          P          R     mAP@.5 mAP@.5:.95: 100% 11/11 [00:02<00:00,  5.19it/s]\n",
            "                 all        350       1173      0.452      0.526      0.406      0.292\n",
            "\n",
            "     Epoch   gpu_mem       box       obj       cls    labels  img_size\n",
            "     34/79     2.24G   0.03733    0.0405  0.001839       194       416: 100% 121/121 [00:16<00:00,  7.26it/s]\n",
            "               Class     Images     Labels          P          R     mAP@.5 mAP@.5:.95: 100% 11/11 [00:02<00:00,  5.34it/s]\n",
            "                 all        350       1173       0.43      0.512      0.387      0.285\n",
            "\n",
            "     Epoch   gpu_mem       box       obj       cls    labels  img_size\n",
            "     35/79     2.24G   0.03774   0.04149  0.001778       173       416: 100% 121/121 [00:17<00:00,  6.99it/s]\n",
            "               Class     Images     Labels          P          R     mAP@.5 mAP@.5:.95: 100% 11/11 [00:02<00:00,  4.23it/s]\n",
            "                 all        350       1173      0.455      0.516      0.409      0.307\n",
            "\n",
            "     Epoch   gpu_mem       box       obj       cls    labels  img_size\n",
            "     36/79     2.24G   0.03639   0.03813  0.001911        93       416: 100% 121/121 [00:16<00:00,  7.26it/s]\n",
            "               Class     Images     Labels          P          R     mAP@.5 mAP@.5:.95: 100% 11/11 [00:02<00:00,  5.33it/s]\n",
            "                 all        350       1173      0.413      0.484      0.396      0.298\n",
            "\n",
            "     Epoch   gpu_mem       box       obj       cls    labels  img_size\n",
            "     37/79     2.24G   0.03712   0.03938   0.00178       168       416: 100% 121/121 [00:16<00:00,  7.30it/s]\n",
            "               Class     Images     Labels          P          R     mAP@.5 mAP@.5:.95: 100% 11/11 [00:02<00:00,  5.32it/s]\n",
            "                 all        350       1173      0.453      0.448      0.403      0.297\n",
            "\n",
            "     Epoch   gpu_mem       box       obj       cls    labels  img_size\n",
            "     38/79     2.24G   0.03681   0.03927  0.001825       289       416: 100% 121/121 [00:16<00:00,  7.30it/s]\n",
            "               Class     Images     Labels          P          R     mAP@.5 mAP@.5:.95: 100% 11/11 [00:02<00:00,  5.34it/s]\n",
            "                 all        350       1173      0.482       0.49      0.434      0.315\n",
            "\n",
            "     Epoch   gpu_mem       box       obj       cls    labels  img_size\n",
            "     39/79     2.24G   0.03643   0.03786  0.001475       116       416: 100% 121/121 [00:18<00:00,  6.72it/s]\n",
            "               Class     Images     Labels          P          R     mAP@.5 mAP@.5:.95: 100% 11/11 [00:02<00:00,  5.24it/s]\n",
            "                 all        350       1173      0.468      0.499      0.456      0.341\n",
            "\n",
            "     Epoch   gpu_mem       box       obj       cls    labels  img_size\n",
            "     40/79     2.24G   0.03629    0.0377  0.001521       143       416: 100% 121/121 [00:16<00:00,  7.23it/s]\n",
            "               Class     Images     Labels          P          R     mAP@.5 mAP@.5:.95: 100% 11/11 [00:02<00:00,  5.33it/s]\n",
            "                 all        350       1173      0.456      0.506      0.426      0.328\n",
            "\n",
            "     Epoch   gpu_mem       box       obj       cls    labels  img_size\n",
            "     41/79     2.24G   0.03577   0.03773  0.001354       171       416: 100% 121/121 [00:16<00:00,  7.23it/s]\n",
            "               Class     Images     Labels          P          R     mAP@.5 mAP@.5:.95: 100% 11/11 [00:02<00:00,  5.25it/s]\n",
            "                 all        350       1173       0.46      0.497      0.425      0.317\n",
            "\n",
            "     Epoch   gpu_mem       box       obj       cls    labels  img_size\n",
            "     42/79     2.24G   0.03559   0.03687  0.001368        97       416: 100% 121/121 [00:17<00:00,  6.75it/s]\n",
            "               Class     Images     Labels          P          R     mAP@.5 mAP@.5:.95: 100% 11/11 [00:02<00:00,  5.28it/s]\n",
            "                 all        350       1173      0.466      0.484      0.431      0.324\n",
            "\n",
            "     Epoch   gpu_mem       box       obj       cls    labels  img_size\n",
            "     43/79     2.24G   0.03583    0.0361  0.001357       135       416: 100% 121/121 [00:16<00:00,  7.29it/s]\n",
            "               Class     Images     Labels          P          R     mAP@.5 mAP@.5:.95: 100% 11/11 [00:02<00:00,  5.40it/s]\n",
            "                 all        350       1173      0.477      0.508      0.445      0.334\n",
            "\n",
            "     Epoch   gpu_mem       box       obj       cls    labels  img_size\n",
            "     44/79     2.24G   0.03622   0.03642  0.001247       152       416: 100% 121/121 [00:16<00:00,  7.25it/s]\n",
            "               Class     Images     Labels          P          R     mAP@.5 mAP@.5:.95: 100% 11/11 [00:02<00:00,  5.21it/s]\n",
            "                 all        350       1173      0.484       0.49      0.446      0.334\n",
            "\n",
            "     Epoch   gpu_mem       box       obj       cls    labels  img_size\n",
            "     45/79     2.24G   0.03519   0.03556  0.001506       127       416: 100% 121/121 [00:16<00:00,  7.29it/s]\n",
            "               Class     Images     Labels          P          R     mAP@.5 mAP@.5:.95: 100% 11/11 [00:02<00:00,  5.30it/s]\n",
            "                 all        350       1173      0.496      0.482      0.442      0.329\n",
            "\n",
            "     Epoch   gpu_mem       box       obj       cls    labels  img_size\n",
            "     46/79     2.24G   0.03503   0.03693  0.001255       175       416: 100% 121/121 [00:18<00:00,  6.70it/s]\n",
            "               Class     Images     Labels          P          R     mAP@.5 mAP@.5:.95: 100% 11/11 [00:02<00:00,  5.34it/s]\n",
            "                 all        350       1173      0.426      0.509      0.401        0.3\n",
            "\n",
            "     Epoch   gpu_mem       box       obj       cls    labels  img_size\n",
            "     47/79     2.24G   0.03541   0.03715  0.001363       183       416: 100% 121/121 [00:16<00:00,  7.22it/s]\n",
            "               Class     Images     Labels          P          R     mAP@.5 mAP@.5:.95: 100% 11/11 [00:02<00:00,  5.31it/s]\n",
            "                 all        350       1173      0.457      0.516      0.426       0.32\n",
            "\n",
            "     Epoch   gpu_mem       box       obj       cls    labels  img_size\n",
            "     48/79     2.24G   0.03457   0.03713   0.00126       174       416: 100% 121/121 [00:16<00:00,  7.25it/s]\n",
            "               Class     Images     Labels          P          R     mAP@.5 mAP@.5:.95: 100% 11/11 [00:02<00:00,  5.39it/s]\n",
            "                 all        350       1173      0.449      0.545      0.455      0.341\n",
            "\n",
            "     Epoch   gpu_mem       box       obj       cls    labels  img_size\n",
            "     49/79     2.24G   0.03467   0.03663  0.001149       181       416: 100% 121/121 [00:18<00:00,  6.66it/s]\n",
            "               Class     Images     Labels          P          R     mAP@.5 mAP@.5:.95: 100% 11/11 [00:02<00:00,  5.34it/s]\n",
            "                 all        350       1173      0.456       0.53      0.434      0.327\n",
            "\n",
            "     Epoch   gpu_mem       box       obj       cls    labels  img_size\n",
            "     50/79     2.24G   0.03446   0.03549  0.001169       128       416: 100% 121/121 [00:16<00:00,  7.26it/s]\n",
            "               Class     Images     Labels          P          R     mAP@.5 mAP@.5:.95: 100% 11/11 [00:02<00:00,  5.28it/s]\n",
            "                 all        350       1173      0.477        0.5      0.451      0.344\n",
            "\n",
            "     Epoch   gpu_mem       box       obj       cls    labels  img_size\n",
            "     51/79     2.24G   0.03509   0.03659   0.00107       137       416: 100% 121/121 [00:16<00:00,  7.24it/s]\n",
            "               Class     Images     Labels          P          R     mAP@.5 mAP@.5:.95: 100% 11/11 [00:02<00:00,  5.21it/s]\n",
            "                 all        350       1173      0.468      0.525      0.471      0.359\n",
            "\n",
            "     Epoch   gpu_mem       box       obj       cls    labels  img_size\n",
            "     52/79     2.24G   0.03421   0.03493  0.001118       161       416: 100% 121/121 [00:16<00:00,  7.18it/s]\n",
            "               Class     Images     Labels          P          R     mAP@.5 mAP@.5:.95: 100% 11/11 [00:02<00:00,  3.84it/s]\n",
            "                 all        350       1173      0.465      0.502       0.43      0.328\n",
            "\n",
            "     Epoch   gpu_mem       box       obj       cls    labels  img_size\n",
            "     53/79     2.24G   0.03444   0.03443  0.001159        77       416: 100% 121/121 [00:16<00:00,  7.30it/s]\n",
            "               Class     Images     Labels          P          R     mAP@.5 mAP@.5:.95: 100% 11/11 [00:02<00:00,  5.16it/s]\n",
            "                 all        350       1173      0.514      0.506      0.471      0.352\n",
            "\n",
            "     Epoch   gpu_mem       box       obj       cls    labels  img_size\n",
            "     54/79     2.24G   0.03509   0.03577 0.0009575       110       416: 100% 121/121 [00:16<00:00,  7.27it/s]\n",
            "               Class     Images     Labels          P          R     mAP@.5 mAP@.5:.95: 100% 11/11 [00:02<00:00,  5.27it/s]\n",
            "                 all        350       1173      0.444        0.5      0.418      0.319\n",
            "\n",
            "     Epoch   gpu_mem       box       obj       cls    labels  img_size\n",
            "     55/79     2.24G   0.03472   0.03571 0.0009311       183       416: 100% 121/121 [00:16<00:00,  7.21it/s]\n",
            "               Class     Images     Labels          P          R     mAP@.5 mAP@.5:.95: 100% 11/11 [00:02<00:00,  5.34it/s]\n",
            "                 all        350       1173      0.427      0.498      0.413      0.312\n",
            "\n",
            "     Epoch   gpu_mem       box       obj       cls    labels  img_size\n",
            "     56/79     2.24G   0.03344   0.03407 0.0008683       109       416: 100% 121/121 [00:18<00:00,  6.66it/s]\n",
            "               Class     Images     Labels          P          R     mAP@.5 mAP@.5:.95: 100% 11/11 [00:02<00:00,  5.30it/s]\n",
            "                 all        350       1173      0.461      0.518      0.426      0.323\n",
            "\n",
            "     Epoch   gpu_mem       box       obj       cls    labels  img_size\n",
            "     57/79     2.24G   0.03383   0.03341  0.001051       126       416: 100% 121/121 [00:16<00:00,  7.23it/s]\n",
            "               Class     Images     Labels          P          R     mAP@.5 mAP@.5:.95: 100% 11/11 [00:02<00:00,  5.34it/s]\n",
            "                 all        350       1173       0.49      0.471      0.423      0.324\n",
            "\n",
            "     Epoch   gpu_mem       box       obj       cls    labels  img_size\n",
            "     58/79     2.24G    0.0331   0.03434 0.0009968       108       416: 100% 121/121 [00:16<00:00,  7.24it/s]\n",
            "               Class     Images     Labels          P          R     mAP@.5 mAP@.5:.95: 100% 11/11 [00:02<00:00,  5.37it/s]\n",
            "                 all        350       1173      0.437      0.478      0.413      0.318\n",
            "\n",
            "     Epoch   gpu_mem       box       obj       cls    labels  img_size\n",
            "     59/79     2.24G   0.03332   0.03472 0.0008258       130       416: 100% 121/121 [00:18<00:00,  6.72it/s]\n",
            "               Class     Images     Labels          P          R     mAP@.5 mAP@.5:.95: 100% 11/11 [00:02<00:00,  5.32it/s]\n",
            "                 all        350       1173      0.464      0.492      0.429      0.329\n",
            "\n",
            "     Epoch   gpu_mem       box       obj       cls    labels  img_size\n",
            "     60/79     2.24G   0.03302   0.03298  0.001014        97       416: 100% 121/121 [00:16<00:00,  7.28it/s]\n",
            "               Class     Images     Labels          P          R     mAP@.5 mAP@.5:.95: 100% 11/11 [00:02<00:00,  5.44it/s]\n",
            "                 all        350       1173      0.452      0.535      0.408      0.313\n",
            "\n",
            "     Epoch   gpu_mem       box       obj       cls    labels  img_size\n",
            "     61/79     2.24G   0.03299   0.03303 0.0007972       123       416: 100% 121/121 [00:16<00:00,  7.30it/s]\n",
            "               Class     Images     Labels          P          R     mAP@.5 mAP@.5:.95: 100% 11/11 [00:02<00:00,  5.34it/s]\n",
            "                 all        350       1173      0.447      0.508      0.427      0.333\n",
            "\n",
            "     Epoch   gpu_mem       box       obj       cls    labels  img_size\n",
            "     62/79     2.24G   0.03309   0.03299 0.0008153       122       416: 100% 121/121 [00:16<00:00,  7.24it/s]\n",
            "               Class     Images     Labels          P          R     mAP@.5 mAP@.5:.95: 100% 11/11 [00:02<00:00,  4.47it/s]\n",
            "                 all        350       1173      0.398      0.553      0.394      0.306\n",
            "\n",
            "     Epoch   gpu_mem       box       obj       cls    labels  img_size\n",
            "     63/79     2.24G   0.03374   0.03307  0.000802       190       416: 100% 121/121 [00:17<00:00,  6.93it/s]\n",
            "               Class     Images     Labels          P          R     mAP@.5 mAP@.5:.95: 100% 11/11 [00:02<00:00,  5.28it/s]\n",
            "                 all        350       1173      0.433      0.532       0.42      0.322\n",
            "\n",
            "     Epoch   gpu_mem       box       obj       cls    labels  img_size\n",
            "     64/79     2.24G     0.033   0.03317 0.0009544       137       416: 100% 121/121 [00:16<00:00,  7.21it/s]\n",
            "               Class     Images     Labels          P          R     mAP@.5 mAP@.5:.95: 100% 11/11 [00:02<00:00,  5.32it/s]\n",
            "                 all        350       1173      0.479      0.541      0.444      0.343\n",
            "\n",
            "     Epoch   gpu_mem       box       obj       cls    labels  img_size\n",
            "     65/79     2.24G   0.03263   0.03194 0.0006849       116       416: 100% 121/121 [00:16<00:00,  7.26it/s]\n",
            "               Class     Images     Labels          P          R     mAP@.5 mAP@.5:.95: 100% 11/11 [00:02<00:00,  5.38it/s]\n",
            "                 all        350       1173       0.48      0.493      0.427      0.331\n",
            "\n",
            "     Epoch   gpu_mem       box       obj       cls    labels  img_size\n",
            "     66/79     2.24G   0.03308   0.03204 0.0008764       160       416: 100% 121/121 [00:18<00:00,  6.71it/s]\n",
            "               Class     Images     Labels          P          R     mAP@.5 mAP@.5:.95: 100% 11/11 [00:02<00:00,  5.38it/s]\n",
            "                 all        350       1173      0.468      0.447        0.4       0.31\n",
            "\n",
            "     Epoch   gpu_mem       box       obj       cls    labels  img_size\n",
            "     67/79     2.24G   0.03266   0.03335 0.0008385       164       416: 100% 121/121 [00:16<00:00,  7.28it/s]\n",
            "               Class     Images     Labels          P          R     mAP@.5 mAP@.5:.95: 100% 11/11 [00:02<00:00,  5.42it/s]\n",
            "                 all        350       1173      0.465      0.528      0.444      0.343\n",
            "\n",
            "     Epoch   gpu_mem       box       obj       cls    labels  img_size\n",
            "     68/79     2.24G   0.03249   0.03287 0.0007335       121       416: 100% 121/121 [00:16<00:00,  7.25it/s]\n",
            "               Class     Images     Labels          P          R     mAP@.5 mAP@.5:.95: 100% 11/11 [00:02<00:00,  5.39it/s]\n",
            "                 all        350       1173      0.468      0.514       0.42      0.328\n",
            "\n",
            "     Epoch   gpu_mem       box       obj       cls    labels  img_size\n",
            "     69/79     2.24G   0.03314   0.03346 0.0006853       183       416: 100% 121/121 [00:18<00:00,  6.72it/s]\n",
            "               Class     Images     Labels          P          R     mAP@.5 mAP@.5:.95: 100% 11/11 [00:02<00:00,  5.40it/s]\n",
            "                 all        350       1173      0.451      0.528      0.422      0.328\n",
            "\n",
            "     Epoch   gpu_mem       box       obj       cls    labels  img_size\n",
            "     70/79     2.24G   0.03253   0.03168 0.0007418       143       416: 100% 121/121 [00:16<00:00,  7.29it/s]\n",
            "               Class     Images     Labels          P          R     mAP@.5 mAP@.5:.95: 100% 11/11 [00:02<00:00,  5.29it/s]\n",
            "                 all        350       1173      0.458      0.551      0.432      0.334\n",
            "\n",
            "     Epoch   gpu_mem       box       obj       cls    labels  img_size\n",
            "     71/79     2.24G   0.03234   0.03244 0.0007778       101       416: 100% 121/121 [00:16<00:00,  7.29it/s]\n",
            "               Class     Images     Labels          P          R     mAP@.5 mAP@.5:.95: 100% 11/11 [00:02<00:00,  5.35it/s]\n",
            "                 all        350       1173       0.46      0.521      0.427      0.336\n",
            "\n",
            "     Epoch   gpu_mem       box       obj       cls    labels  img_size\n",
            "     72/79     2.24G   0.03184   0.03073 0.0007947       126       416: 100% 121/121 [00:16<00:00,  7.29it/s]\n",
            "               Class     Images     Labels          P          R     mAP@.5 mAP@.5:.95: 100% 11/11 [00:02<00:00,  5.40it/s]\n",
            "                 all        350       1173      0.492      0.478      0.434       0.34\n",
            "\n",
            "     Epoch   gpu_mem       box       obj       cls    labels  img_size\n",
            "     73/79     2.24G   0.03228   0.03198 0.0006894       112       416: 100% 121/121 [00:17<00:00,  6.79it/s]\n",
            "               Class     Images     Labels          P          R     mAP@.5 mAP@.5:.95: 100% 11/11 [00:02<00:00,  5.35it/s]\n",
            "                 all        350       1173      0.435      0.542      0.422       0.33\n",
            "\n",
            "     Epoch   gpu_mem       box       obj       cls    labels  img_size\n",
            "     74/79     2.24G   0.03263   0.03219 0.0007891       229       416: 100% 121/121 [00:16<00:00,  7.26it/s]\n",
            "               Class     Images     Labels          P          R     mAP@.5 mAP@.5:.95: 100% 11/11 [00:02<00:00,  5.39it/s]\n",
            "                 all        350       1173      0.463       0.53      0.432      0.335\n",
            "\n",
            "     Epoch   gpu_mem       box       obj       cls    labels  img_size\n",
            "     75/79     2.24G   0.03215   0.03178 0.0006363       160       416: 100% 121/121 [00:16<00:00,  7.25it/s]\n",
            "               Class     Images     Labels          P          R     mAP@.5 mAP@.5:.95: 100% 11/11 [00:02<00:00,  5.34it/s]\n",
            "                 all        350       1173      0.442      0.535      0.415      0.325\n",
            "\n",
            "     Epoch   gpu_mem       box       obj       cls    labels  img_size\n",
            "     76/79     2.24G   0.03267    0.0321 0.0007029       114       416: 100% 121/121 [00:18<00:00,  6.68it/s]\n",
            "               Class     Images     Labels          P          R     mAP@.5 mAP@.5:.95: 100% 11/11 [00:02<00:00,  5.30it/s]\n",
            "                 all        350       1173      0.455      0.512      0.412      0.322\n",
            "\n",
            "     Epoch   gpu_mem       box       obj       cls    labels  img_size\n",
            "     77/79     2.24G   0.03202   0.03127 0.0007458       194       416: 100% 121/121 [00:16<00:00,  7.26it/s]\n",
            "               Class     Images     Labels          P          R     mAP@.5 mAP@.5:.95: 100% 11/11 [00:02<00:00,  5.44it/s]\n",
            "                 all        350       1173      0.472      0.498       0.42      0.328\n",
            "\n",
            "     Epoch   gpu_mem       box       obj       cls    labels  img_size\n",
            "     78/79     2.24G    0.0312   0.03023 0.0006195       122       416: 100% 121/121 [00:16<00:00,  7.28it/s]\n",
            "               Class     Images     Labels          P          R     mAP@.5 mAP@.5:.95: 100% 11/11 [00:02<00:00,  5.37it/s]\n",
            "                 all        350       1173      0.461      0.537      0.436      0.341\n",
            "\n",
            "     Epoch   gpu_mem       box       obj       cls    labels  img_size\n",
            "     79/79     2.24G   0.03249   0.03272 0.0006755       323       416: 100% 121/121 [00:18<00:00,  6.68it/s]\n",
            "               Class     Images     Labels          P          R     mAP@.5 mAP@.5:.95: 100% 11/11 [00:02<00:00,  5.39it/s]\n",
            "                 all        350       1173      0.468      0.532      0.431      0.337\n",
            "\n",
            "80 epochs completed in 0.440 hours.\n",
            "Optimizer stripped from runs/train/yolov5s_results10/weights/last.pt, 14.3MB\n",
            "Optimizer stripped from runs/train/yolov5s_results10/weights/best.pt, 14.3MB\n",
            "\n",
            "Validating runs/train/yolov5s_results10/weights/best.pt...\n",
            "Fusing layers... \n",
            "YOLOv5s summary: 213 layers, 7015519 parameters, 0 gradients\n",
            "               Class     Images     Labels          P          R     mAP@.5 mAP@.5:.95: 100% 11/11 [00:04<00:00,  2.55it/s]\n",
            "                 all        350       1173      0.467      0.525      0.471      0.359\n",
            "               Apple        350        334      0.585      0.542      0.579      0.451\n",
            "              Orange        350        839      0.348      0.508      0.364      0.267\n",
            "Results saved to \u001b[1mruns/train/yolov5s_results10\u001b[0m\n"
          ]
        }
      ],
      "source": [
        "!python train.py --img 416 --batch 16 --epochs 80 --data my_classes.yaml --cfg ./models/yolov5s.yaml --weights yolov5s.pt --name yolov5s_results --cache --device 0"
      ]
    },
    {
      "cell_type": "markdown",
      "source": [
        "## getting required results from the model using detect.py file"
      ],
      "metadata": {
        "id": "-4OJl4a9HneY"
      }
    },
    {
      "cell_type": "code",
      "execution_count": null,
      "metadata": {
        "id": "watf0kCTrVv3"
      },
      "outputs": [],
      "source": [
        "!python detect.py --weights yolov5s.pt --img 416 --conf 0.4 --source '/content/o a.jpg' --save-conf"
      ]
    },
    {
      "cell_type": "markdown",
      "source": [
        "## Using pytorch for loading model and getting required results i.e. no of each fruit and thier respective cordinates "
      ],
      "metadata": {
        "id": "GQRK8PwbH5Jk"
      }
    },
    {
      "cell_type": "code",
      "source": [
        "import cv2\n",
        "import torch\n",
        "from PIL import Image\n",
        "\n",
        "# Model\n",
        "model = torch.hub.load('/content/drive/MyDrive/projects/Artenal/yolov5', 'custom', source='local', path = '/content/drive/MyDrive/projects/Artenal/yolov5/yolov5s.pt', force_reload = True)\n",
        "\n",
        "# Images\n",
        "# for f in ['zidane.jpg', 'bus.jpg']:  # download 2 images\n",
        "#     print(f'Downloading {f}...')\n",
        "#     torch.hub.download_url_to_file('https://github.com/ultralytics/yolov5/releases/download/v1.0/' + f, f)\n",
        "img1 = Image.open('/content/apples-and-oranges.jpg')  # PIL image\n",
        "#img2 = cv2.imread('bus.jpg')[:, :, ::-1]  # OpenCV image (BGR to RGB)\n",
        "#imgs = [img1, img2]  # batched list of images\n",
        "\n",
        "# Inference\n",
        "results = model(img1, size=640)  # includes NMS\n",
        "\n",
        "# Results\n",
        "results.print()  # print results to screen\n",
        "results.show()  # display results\n",
        "results.save()  # save as results1.jpg, results2.jpg... etc.\n",
        "\n",
        "# Data\n",
        "print('\\n', results.xyxy[0])  # print img1 predictions in image coordinates\n",
        "#          x1 (pixels)  y1 (pixels)  x2 (pixels)  y2 (pixels)   confidence        class\n",
        "# tensor([[7.47613e+02, 4.01168e+01, 1.14978e+03, 7.12016e+02, 8.71210e-01, 0.00000e+00],\n",
        "#         [1.17464e+02, 1.96875e+02, 1.00145e+03, 7.11802e+02, 8.08795e-01, 0.00000e+00],\n",
        "#         [4.23969e+02, 4.30401e+02, 5.16833e+02, 7.20000e+02, 7.77376e-01, 2.70000e+01],\n",
        "#         [9.81310e+02, 3.10712e+02, 1.03111e+03, 4.19273e+02, 2.86850e-01, 2.70000e+01]])"
      ],
      "metadata": {
        "id": "wUaLKW9xJ9-4",
        "colab": {
          "base_uri": "https://localhost:8080/"
        },
        "outputId": "5fb33063-8956-4bfa-a201-8525eefc842b"
      },
      "execution_count": null,
      "outputs": [
        {
          "output_type": "stream",
          "name": "stderr",
          "text": [
            "\u001b[31m\u001b[1mrequirements:\u001b[0m PyYAML>=5.3.1 not found and is required by YOLOv5, attempting auto-update...\n",
            "Looking in indexes: https://pypi.org/simple, https://us-python.pkg.dev/colab-wheels/public/simple/\n",
            "Collecting PyYAML>=5.3.1\n",
            "  Downloading PyYAML-6.0-cp37-cp37m-manylinux_2_5_x86_64.manylinux1_x86_64.manylinux_2_12_x86_64.manylinux2010_x86_64.whl (596 kB)\n",
            "Installing collected packages: PyYAML\n",
            "  Attempting uninstall: PyYAML\n",
            "    Found existing installation: PyYAML 3.13\n",
            "    Uninstalling PyYAML-3.13:\n",
            "      Successfully uninstalled PyYAML-3.13\n",
            "Successfully installed PyYAML-6.0\n",
            "\n",
            "\u001b[31m\u001b[1mrequirements:\u001b[0m torch!=1.12.0,>=1.7.0 not found and is required by YOLOv5, attempting auto-update...\n",
            "Looking in indexes: https://pypi.org/simple, https://us-python.pkg.dev/colab-wheels/public/simple/\n",
            "Collecting torch!=1.12.0,>=1.7.0\n",
            "  Downloading torch-1.11.0-cp37-cp37m-manylinux1_x86_64.whl (750.6 MB)\n",
            "Requirement already satisfied: typing-extensions in /usr/local/lib/python3.7/dist-packages (from torch!=1.12.0,>=1.7.0) (4.1.1)\n",
            "Installing collected packages: torch\n",
            "  Attempting uninstall: torch\n",
            "    Found existing installation: torch 1.12.0+cu113\n",
            "    Uninstalling torch-1.12.0+cu113:\n",
            "      Successfully uninstalled torch-1.12.0+cu113\n",
            "Successfully installed torch-1.11.0\n",
            "\n",
            "\u001b[31m\u001b[1mrequirements:\u001b[0m torchvision!=0.13.0,>=0.8.1 not found and is required by YOLOv5, attempting auto-update...\n",
            "Looking in indexes: https://pypi.org/simple, https://us-python.pkg.dev/colab-wheels/public/simple/\n",
            "Collecting torchvision!=0.13.0,>=0.8.1\n",
            "  Downloading torchvision-0.12.0-cp37-cp37m-manylinux1_x86_64.whl (21.0 MB)\n",
            "Requirement already satisfied: pillow!=8.3.*,>=5.3.0 in /usr/local/lib/python3.7/dist-packages (from torchvision!=0.13.0,>=0.8.1) (7.1.2)\n",
            "Requirement already satisfied: typing-extensions in /usr/local/lib/python3.7/dist-packages (from torchvision!=0.13.0,>=0.8.1) (4.1.1)\n",
            "Requirement already satisfied: numpy in /usr/local/lib/python3.7/dist-packages (from torchvision!=0.13.0,>=0.8.1) (1.21.6)\n",
            "Requirement already satisfied: torch==1.11.0 in /usr/local/lib/python3.7/dist-packages (from torchvision!=0.13.0,>=0.8.1) (1.11.0)\n",
            "Requirement already satisfied: requests in /usr/local/lib/python3.7/dist-packages (from torchvision!=0.13.0,>=0.8.1) (2.23.0)\n",
            "Requirement already satisfied: chardet<4,>=3.0.2 in /usr/local/lib/python3.7/dist-packages (from requests->torchvision!=0.13.0,>=0.8.1) (3.0.4)\n",
            "Requirement already satisfied: idna<3,>=2.5 in /usr/local/lib/python3.7/dist-packages (from requests->torchvision!=0.13.0,>=0.8.1) (2.10)\n",
            "Requirement already satisfied: certifi>=2017.4.17 in /usr/local/lib/python3.7/dist-packages (from requests->torchvision!=0.13.0,>=0.8.1) (2022.6.15)\n",
            "Requirement already satisfied: urllib3!=1.25.0,!=1.25.1,<1.26,>=1.21.1 in /usr/local/lib/python3.7/dist-packages (from requests->torchvision!=0.13.0,>=0.8.1) (1.24.3)\n",
            "Installing collected packages: torchvision\n",
            "  Attempting uninstall: torchvision\n",
            "    Found existing installation: torchvision 0.13.0+cu113\n",
            "    Uninstalling torchvision-0.13.0+cu113:\n",
            "      Successfully uninstalled torchvision-0.13.0+cu113\n",
            "Successfully installed torchvision-0.12.0\n",
            "\n",
            "\u001b[31m\u001b[1mrequirements:\u001b[0m 3 packages updated per /content/drive/MyDrive/projects/Artenal/yolov5/requirements.txt\n",
            "\u001b[31m\u001b[1mrequirements:\u001b[0m ⚠️ \u001b[1mRestart runtime or rerun command for updates to take effect\u001b[0m\n",
            "\n",
            "YOLOv5 🚀 v6.1-297-g72a81e7 Python-3.7.13 torch-1.12.0+cu113 CUDA:0 (Tesla T4, 15110MiB)\n",
            "\n",
            "Fusing layers... \n",
            "YOLOv5s summary: 213 layers, 7225885 parameters, 0 gradients\n",
            "Adding AutoShape... \n",
            "Saved 1 image to \u001b[1mruns/detect/exp\u001b[0m\n"
          ]
        },
        {
          "output_type": "stream",
          "name": "stdout",
          "text": [
            "image 1/1: 282x425 6 apples, 6 oranges\n",
            "Speed: 67.6ms pre-process, 7629.5ms inference, 57.5ms NMS per image at shape (1, 3, 448, 640)\n",
            "\n",
            " tensor([[2.06056e+02, 1.21301e+02, 3.36540e+02, 2.53358e+02, 7.17606e-01, 4.90000e+01],\n",
            "        [3.37305e+02, 1.12750e+02, 4.24972e+02, 2.48825e+02, 6.85552e-01, 4.90000e+01],\n",
            "        [4.59522e-02, 3.77236e+01, 9.07212e+01, 1.07953e+02, 6.72831e-01, 4.70000e+01],\n",
            "        [3.20356e+02, 3.50102e+01, 4.25000e+02, 1.51670e+02, 6.72331e-01, 4.90000e+01],\n",
            "        [2.07354e+02, 6.86056e+01, 3.33044e+02, 1.54325e+02, 6.14948e-01, 4.90000e+01],\n",
            "        [0.00000e+00, 1.17340e+02, 7.55246e+01, 2.55065e+02, 5.95355e-01, 4.70000e+01],\n",
            "        [9.07156e+01, 3.80929e+01, 2.05972e+02, 9.97866e+01, 5.84609e-01, 4.70000e+01],\n",
            "        [9.19976e+01, 7.06963e+01, 2.13553e+02, 1.50970e+02, 5.44398e-01, 4.70000e+01],\n",
            "        [7.06515e+01, 1.05944e+02, 2.03213e+02, 2.57297e+02, 5.07843e-01, 4.70000e+01],\n",
            "        [2.07835e+02, 4.74537e+01, 3.21394e+02, 1.18247e+02, 4.51752e-01, 4.90000e+01],\n",
            "        [1.27440e-01, 7.58042e+01, 8.77670e+01, 1.58630e+02, 3.98337e-01, 4.70000e+01],\n",
            "        [7.55164e+01, 1.03390e+02, 2.06447e+02, 2.56931e+02, 3.45953e-01, 4.90000e+01]], device='cuda:0')\n"
          ]
        }
      ]
    },
    {
      "cell_type": "code",
      "source": [
        "%cd '/content/drive/MyDrive/projects/Artenal/yolov5'"
      ],
      "metadata": {
        "colab": {
          "base_uri": "https://localhost:8080/"
        },
        "id": "klc1nKpumUaK",
        "outputId": "ab9bc3ff-49da-4b3f-b0a2-77ff406479e5"
      },
      "execution_count": null,
      "outputs": [
        {
          "output_type": "stream",
          "name": "stdout",
          "text": [
            "/content/drive/MyDrive/projects/Artenal/yolov5\n"
          ]
        }
      ]
    },
    {
      "cell_type": "code",
      "source": [
        "from PIL import Image\n",
        "img=Image.open('/content/download.jpg')\n",
        "img=img.resize((416,416))"
      ],
      "metadata": {
        "id": "JSTDpDfTm5ks"
      },
      "execution_count": null,
      "outputs": []
    },
    {
      "cell_type": "code",
      "source": [
        "img.save('download.jpg')"
      ],
      "metadata": {
        "id": "7Zxx0mCenS2B"
      },
      "execution_count": null,
      "outputs": []
    },
    {
      "cell_type": "code",
      "source": [
        "!python detect.py --weights yolov5s.pt --img 416 --conf 0.4 --source 'download.jpg' --save-crop"
      ],
      "metadata": {
        "id": "Q_r4ISASK-73",
        "colab": {
          "base_uri": "https://localhost:8080/"
        },
        "outputId": "1fd8892c-2a0d-4c2a-bba2-83a09a590780"
      },
      "execution_count": null,
      "outputs": [
        {
          "output_type": "stream",
          "name": "stdout",
          "text": [
            "\u001b[34m\u001b[1mdetect: \u001b[0mweights=['yolov5s.pt'], source=download.jpg, data=data/coco128.yaml, imgsz=[416, 416], conf_thres=0.4, iou_thres=0.45, max_det=1000, device=, view_img=False, save_txt=True, save_conf=False, save_crop=True, nosave=False, classes=None, agnostic_nms=False, augment=False, visualize=False, update=False, project=runs/detect, name=exp, exist_ok=False, line_thickness=3, hide_labels=False, hide_conf=False, half=False, dnn=False\n",
            "YOLOv5 🚀 v6.1-297-g72a81e7 Python-3.7.13 torch-1.11.0+cu102 CUDA:0 (Tesla T4, 15110MiB)\n",
            "\n",
            "Fusing layers... \n",
            "YOLOv5s summary: 213 layers, 7225885 parameters, 0 gradients\n",
            "image 1/1 /content/drive/MyDrive/projects/Artenal/yolov5/download.jpg: 416x416 4 oranges, Done. (0.009s)\n",
            "Speed: 0.4ms pre-process, 9.2ms inference, 1.3ms NMS per image at shape (1, 3, 416, 416)\n",
            "Results saved to \u001b[1mruns/detect/exp20\u001b[0m\n",
            "1 labels saved to runs/detect/exp20/labels\n"
          ]
        }
      ]
    },
    {
      "cell_type": "code",
      "source": [
        ""
      ],
      "metadata": {
        "id": "kxcXPVpgmSGw"
      },
      "execution_count": null,
      "outputs": []
    }
  ],
  "metadata": {
    "accelerator": "GPU",
    "colab": {
      "name": "apple and orange detection and counter.ipynb",
      "provenance": [],
      "collapsed_sections": [],
      "mount_file_id": "1BAbz9MxcEDUWdPgWlSOnGhVmVDvrzzNq",
      "authorship_tag": "ABX9TyPG09N06X201j/ia/wGD8VB",
      "include_colab_link": true
    },
    "gpuClass": "standard",
    "kernelspec": {
      "display_name": "Python 3",
      "name": "python3"
    },
    "language_info": {
      "name": "python"
    }
  },
  "nbformat": 4,
  "nbformat_minor": 0
}